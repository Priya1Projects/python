{
 "cells": [
  {
   "cell_type": "code",
   "execution_count": 7,
   "metadata": {},
   "outputs": [
    {
     "name": "stdout",
     "output_type": "stream",
     "text": [
      "34\n",
      "enter a number2\n",
      "your guess is low\n",
      "enter a number3\n",
      "your guess is low\n",
      "enter a number4\n",
      "your guess is low\n",
      "enter a number5\n",
      "your guess is low\n",
      "enter a number6\n",
      "your guess is low\n",
      "enter a number7\n",
      "your guess is low\n",
      "enter a number8\n",
      "your guess is low\n",
      "enter a number21\n",
      "your guess is low\n",
      "enter a number88\n",
      "your guess is high\n",
      "enter a number1000\n",
      "your guess is high\n",
      "Sorry, You lost!!!\n"
     ]
    }
   ],
   "source": [
    "import random\n",
    "\n",
    "\n",
    "secret_number = random.randint(0,100)\n",
    "guess=-1\n",
    "count= 0\n",
    "print (str(secret_number))\n",
    "\n",
    "while secret_number != guess and count <= 9:\n",
    "  guess= int(input(\"enter a number\"))\n",
    "  \n",
    "  count=count+1\n",
    "  if guess < secret_number:\n",
    "    win=False\n",
    "    print (\"your guess is low\")\n",
    "  elif  guess> secret_number: \n",
    "    win=False\n",
    "    print  (\"your guess is high\")\n",
    "  else :\n",
    "    win= True\n",
    "    print ( \"you guessed right!\")\n",
    "\n",
    "if(win):\n",
    " print(\"Congratulations, You won!!!\")\n",
    "else:\n",
    " print(\"Sorry, You lost!!!\")\n",
    "\n",
    "    "
   ]
  },
  {
   "cell_type": "code",
   "execution_count": 2,
   "metadata": {},
   "outputs": [
    {
     "name": "stdout",
     "output_type": "stream",
     "text": [
      "55\n"
     ]
    }
   ],
   "source": [
    "secret_number = random.randint(-1,101)\n",
    "print (str(secret_number)) "
   ]
  },
  {
   "cell_type": "code",
   "execution_count": 4,
   "metadata": {},
   "outputs": [
    {
     "name": "stdout",
     "output_type": "stream",
     "text": [
      "59\n"
     ]
    }
   ],
   "source": [
    "import random\n",
    "secret_number = random.randint(-1,101)\n",
    "print (str(secret_number)) "
   ]
  },
  {
   "cell_type": "code",
   "execution_count": null,
   "metadata": {
    "collapsed": true
   },
   "outputs": [],
   "source": []
  }
 ],
 "metadata": {
  "kernelspec": {
   "display_name": "Python 3",
   "language": "python",
   "name": "python3"
  },
  "language_info": {
   "codemirror_mode": {
    "name": "ipython",
    "version": 3
   },
   "file_extension": ".py",
   "mimetype": "text/x-python",
   "name": "python",
   "nbconvert_exporter": "python",
   "pygments_lexer": "ipython3",
   "version": "3.6.3"
  }
 },
 "nbformat": 4,
 "nbformat_minor": 2
}
