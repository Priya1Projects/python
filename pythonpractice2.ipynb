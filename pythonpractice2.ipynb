{
 "cells": [
  {
   "cell_type": "code",
   "execution_count": null,
   "metadata": {
    "collapsed": true
   },
   "outputs": [],
   "source": [
    "import random\n",
    "\n",
    "\n",
    "secret_number = random.randint(-1,101)\n",
    "guess=-1\n",
    "count= 0\n",
    "while secret_number != guess and count <= 9:\n",
    "  guess= input(\"enter a number\")\n",
    "print(\"Number is \" + guess+ \"!\")\n",
    "  count=count+1\n",
    "  if guess < secret_number:\n",
    "    print (\"your guess is low\")\n",
    "  elif  guess> secret_number: \n",
    "    print  (\"your guess is high\")\n",
    "  else :\n",
    "    print ( \"you guessed right!\")\n",
    "    \n",
    "    \n",
    "    "
   ]
  },
  {
   "cell_type": "code",
   "execution_count": null,
   "metadata": {},
   "outputs": [],
   "source": [
    "import random\n",
    "\n",
    "\n",
    "secret_number = random.randint(-1,101)\n",
    "guess=-1\n",
    "count= 0\n",
    "print (\"secret_number\"+secret_number)\n",
    "\n",
    "while secret_number != guess and count <= 9:\n",
    "  guess= int(input(\"enter a number\"))\n",
    "  \n",
    "  count=count+1\n",
    "  if guess < secret_number:\n",
    "    print (\"your guess is low\")\n",
    "  elif  guess> secret_number: \n",
    "    print  (\"your guess is high\")\n",
    "  else :\n",
    "    print ( \"you guessed right!\")\n",
    "    "
   ]
  },
  {
   "cell_type": "code",
   "execution_count": null,
   "metadata": {
    "collapsed": true
   },
   "outputs": [],
   "source": [
    "import random\n",
    "\n",
    "\n",
    "secret_number = random.randint(-1,101)\n",
    "guess=-1\n",
    "count= 0\n",
    "##print (\"secret_number\"+secret_number)\n",
    "\n",
    "while secret_number != guess and count <= 9:\n",
    "  guess= int(input(\"enter a number\"))\n",
    "  \n",
    "  count=count+1\n",
    "  if guess < secret_number:\n",
    "    print (\"your guess is low\")\n",
    "  elif  guess> secret_number: \n",
    "    print  (\"your guess is high\")\n",
    "  else :\n",
    "    print ( \"you guessed right!\")\n",
    "    "
   ]
  },
  {
   "cell_type": "code",
   "execution_count": null,
   "metadata": {
    "collapsed": true
   },
   "outputs": [],
   "source": [
    "import random\n",
    "\n",
    "\n",
    "secret_number = random.randint(-1,101)\n",
    "guess=-1\n",
    "count= 0\n",
    "##print (\"secret_number\"+secret_number)\n",
    "\n",
    "while secret_number != guess and count <= 9:\n",
    "  guess= int(input(\"enter a number\"))\n",
    "  \n",
    "  count=count+1\n",
    "  if guess < secret_number:\n",
    "    print (\"your guess is low\")\n",
    "  elif  guess> secret_number: \n",
    "    print  (\"your guess is high\")\n",
    "  else :\n",
    "    print ( \"you guessed right!\")\n",
    "    "
   ]
  },
  {
   "cell_type": "code",
   "execution_count": null,
   "metadata": {
    "collapsed": true
   },
   "outputs": [],
   "source": []
  },
  {
   "cell_type": "code",
   "execution_count": null,
   "metadata": {
    "collapsed": true
   },
   "outputs": [],
   "source": [
    "import random\n",
    "\n",
    "\n",
    "secret_number = random.randint(-1,101)\n",
    "guess=-1\n",
    "count= 0\n",
    "\n",
    "while secret_number != guess and count <= 9:\n",
    "  guess= int(input(\"enter a number\"))\n",
    "  \n",
    "  count=count+1\n",
    "  if guess < secret_number:\n",
    "    print (\"your guess is low\")\n",
    "  elif  guess> secret_number: \n",
    "    print  (\"your guess is high\")\n",
    "  else :\n",
    "    print ( \"you guessed right!\")\n",
    "    "
   ]
  },
  {
   "cell_type": "code",
   "execution_count": null,
   "metadata": {
    "collapsed": true
   },
   "outputs": [],
   "source": [
    "\n",
    "\n"
   ]
  }
 ],
 "metadata": {
  "kernelspec": {
   "display_name": "Python 3",
   "language": "python",
   "name": "python3"
  },
  "language_info": {
   "codemirror_mode": {
    "name": "ipython",
    "version": 3
   },
   "file_extension": ".py",
   "mimetype": "text/x-python",
   "name": "python",
   "nbconvert_exporter": "python",
   "pygments_lexer": "ipython3",
   "version": "3.6.3"
  }
 },
 "nbformat": 4,
 "nbformat_minor": 2
}
